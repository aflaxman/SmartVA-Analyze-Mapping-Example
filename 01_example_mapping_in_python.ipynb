{
 "cells": [
  {
   "cell_type": "code",
   "execution_count": 1,
   "metadata": {
    "collapsed": true
   },
   "outputs": [],
   "source": [
    "import numpy as np, pandas as pd"
   ]
  },
  {
   "cell_type": "code",
   "execution_count": 2,
   "metadata": {
    "collapsed": false
   },
   "outputs": [
    {
     "data": {
      "text/html": [
       "<div>\n",
       "<table border=\"1\" class=\"dataframe\">\n",
       "  <thead>\n",
       "    <tr style=\"text-align: right;\">\n",
       "      <th></th>\n",
       "      <th>module</th>\n",
       "      <th>question number</th>\n",
       "      <th>caption</th>\n",
       "      <th>data type</th>\n",
       "    </tr>\n",
       "    <tr>\n",
       "      <th>field name</th>\n",
       "      <th></th>\n",
       "      <th></th>\n",
       "      <th></th>\n",
       "      <th></th>\n",
       "    </tr>\n",
       "  </thead>\n",
       "  <tbody>\n",
       "    <tr>\n",
       "      <th>sid</th>\n",
       "      <td>NaN</td>\n",
       "      <td>NaN</td>\n",
       "      <td>What is the study ID number?</td>\n",
       "      <td>text</td>\n",
       "    </tr>\n",
       "    <tr>\n",
       "      <th>gen_2_4</th>\n",
       "      <td>General</td>\n",
       "      <td>1.1</td>\n",
       "      <td>Address of/directions to household</td>\n",
       "      <td>text</td>\n",
       "    </tr>\n",
       "    <tr>\n",
       "      <th>gen_3_1</th>\n",
       "      <td>General</td>\n",
       "      <td>2.1</td>\n",
       "      <td>Did respondent give consent?</td>\n",
       "      <td>yes = 1, no = 0</td>\n",
       "    </tr>\n",
       "    <tr>\n",
       "      <th>gen_5_0</th>\n",
       "      <td>General</td>\n",
       "      <td>3.1</td>\n",
       "      <td>What was the name of the deceased?</td>\n",
       "      <td>text</td>\n",
       "    </tr>\n",
       "    <tr>\n",
       "      <th>gen_5_1a</th>\n",
       "      <td>General</td>\n",
       "      <td>3.2</td>\n",
       "      <td>What year was the deceased born?</td>\n",
       "      <td>integer</td>\n",
       "    </tr>\n",
       "  </tbody>\n",
       "</table>\n",
       "</div>"
      ],
      "text/plain": [
       "             module  question number                             caption  \\\n",
       "field name                                                                 \n",
       "sid             NaN              NaN        What is the study ID number?   \n",
       "gen_2_4     General              1.1  Address of/directions to household   \n",
       "gen_3_1     General              2.1        Did respondent give consent?   \n",
       "gen_5_0     General              3.1  What was the name of the deceased?   \n",
       "gen_5_1a    General              3.2    What year was the deceased born?   \n",
       "\n",
       "                  data type  \n",
       "field name                   \n",
       "sid                    text  \n",
       "gen_2_4                text  \n",
       "gen_3_1     yes = 1, no = 0  \n",
       "gen_5_0                text  \n",
       "gen_5_1a            integer  "
      ]
     },
     "execution_count": 2,
     "metadata": {},
     "output_type": "execute_result"
    }
   ],
   "source": [
    "# load codebook\n",
    "fname = 'https://github.com/aflaxman/SmartVA-Analyze-Mapping-Example/raw/master/Guide%20for%20data%20entry.xlsx'\n",
    "cb = pd.read_excel(fname, index_col=2)\n",
    "cb.head()"
   ]
  },
  {
   "cell_type": "markdown",
   "metadata": {},
   "source": [
    "# Minimal example\n",
    "\n",
    "Generate a .csv file that is accepted as input to SmartVA-Analyze 1.1"
   ]
  },
  {
   "cell_type": "code",
   "execution_count": 3,
   "metadata": {
    "collapsed": true
   },
   "outputs": [],
   "source": [
    "# SmartVA-Analyze 1.1 accepts a csv file as input\n",
    "# and expects a column for every field name in the \"Guide for data entry.xlsx\" spreadsheet\n",
    "\n",
    "df = pd.DataFrame(index=[0], columns=cb.index.unique())"
   ]
  },
  {
   "cell_type": "code",
   "execution_count": 4,
   "metadata": {
    "collapsed": true
   },
   "outputs": [],
   "source": [
    "# SmartVA-Analyze 1.1 also requires a handful of columns that are not in the Guide\n",
    "df['child_3_10'] = np.nan\n",
    "df['agedays']    = np.nan\n",
    "df['child_5_7e'] = np.nan\n",
    "df['child_5_6e'] = np.nan\n",
    "df['adult_2_9a'] = np.nan"
   ]
  },
  {
   "cell_type": "code",
   "execution_count": 5,
   "metadata": {
    "collapsed": true
   },
   "outputs": [],
   "source": [
    "df.loc[0,'sid'] = 'example'"
   ]
  },
  {
   "cell_type": "code",
   "execution_count": 6,
   "metadata": {
    "collapsed": true
   },
   "outputs": [],
   "source": [
    "# if we save this dataframe as a csv, we can run it through SmartVA-Analyze 1.1\n",
    "\n",
    "fname = 'example_1.csv'\n",
    "df.to_csv(fname, index=False)"
   ]
  },
  {
   "cell_type": "code",
   "execution_count": 7,
   "metadata": {
    "collapsed": false
   },
   "outputs": [
    {
     "data": {
      "text/html": [
       "<div>\n",
       "<table border=\"1\" class=\"dataframe\">\n",
       "  <thead>\n",
       "    <tr style=\"text-align: right;\">\n",
       "      <th></th>\n",
       "      <th>sid</th>\n",
       "      <th>cause</th>\n",
       "      <th>cause34</th>\n",
       "      <th>age</th>\n",
       "      <th>sex</th>\n",
       "    </tr>\n",
       "  </thead>\n",
       "  <tbody>\n",
       "    <tr>\n",
       "      <th>0</th>\n",
       "      <td>example</td>\n",
       "      <td>NaN</td>\n",
       "      <td>Undetermined</td>\n",
       "      <td>0</td>\n",
       "      <td>NaN</td>\n",
       "    </tr>\n",
       "  </tbody>\n",
       "</table>\n",
       "</div>"
      ],
      "text/plain": [
       "       sid  cause       cause34  age  sex\n",
       "0  example    NaN  Undetermined    0  NaN"
      ]
     },
     "execution_count": 7,
     "metadata": {},
     "output_type": "execute_result"
    }
   ],
   "source": [
    "# here are the results of running this example through SmartVA-Analyze 1.1\n",
    "pd.read_csv('neonate-predictions.csv')"
   ]
  },
  {
   "cell_type": "markdown",
   "metadata": {},
   "source": [
    "# Example of simple, hypothetical mapping\n",
    "\n",
    "If we have data on a set of verbal autopsies (VAs) that did not use the PHMRC Shortened Questionnaire, we must map them to the expected format.  This is a simple, hypothetical example for a set of VAs that asked only about injuries, hypertension, chest pain:"
   ]
  },
  {
   "cell_type": "code",
   "execution_count": 8,
   "metadata": {
    "collapsed": false
   },
   "outputs": [
    {
     "data": {
      "text/html": [
       "<div>\n",
       "<table border=\"1\" class=\"dataframe\">\n",
       "  <thead>\n",
       "    <tr style=\"text-align: right;\">\n",
       "      <th></th>\n",
       "      <th>sex</th>\n",
       "      <th>age</th>\n",
       "      <th>injury</th>\n",
       "      <th>heart_disease</th>\n",
       "      <th>chest_pain</th>\n",
       "    </tr>\n",
       "  </thead>\n",
       "  <tbody>\n",
       "    <tr>\n",
       "      <th>0</th>\n",
       "      <td>M</td>\n",
       "      <td>35</td>\n",
       "      <td>rti</td>\n",
       "      <td>N</td>\n",
       "      <td>N</td>\n",
       "    </tr>\n",
       "    <tr>\n",
       "      <th>1</th>\n",
       "      <td>M</td>\n",
       "      <td>45</td>\n",
       "      <td>fall</td>\n",
       "      <td>N</td>\n",
       "      <td>N</td>\n",
       "    </tr>\n",
       "    <tr>\n",
       "      <th>2</th>\n",
       "      <td>F</td>\n",
       "      <td>75</td>\n",
       "      <td></td>\n",
       "      <td>Y</td>\n",
       "      <td>Y</td>\n",
       "    </tr>\n",
       "    <tr>\n",
       "      <th>3</th>\n",
       "      <td>M</td>\n",
       "      <td>67</td>\n",
       "      <td></td>\n",
       "      <td>Y</td>\n",
       "      <td>N</td>\n",
       "    </tr>\n",
       "    <tr>\n",
       "      <th>4</th>\n",
       "      <td>F</td>\n",
       "      <td>91</td>\n",
       "      <td></td>\n",
       "      <td>Y</td>\n",
       "      <td></td>\n",
       "    </tr>\n",
       "  </tbody>\n",
       "</table>\n",
       "</div>"
      ],
      "text/plain": [
       "  sex  age injury heart_disease chest_pain\n",
       "0   M   35    rti             N          N\n",
       "1   M   45   fall             N          N\n",
       "2   F   75                    Y          Y\n",
       "3   M   67                    Y          N\n",
       "4   F   91                    Y           "
      ]
     },
     "execution_count": 8,
     "metadata": {},
     "output_type": "execute_result"
    }
   ],
   "source": [
    "hypothetical_data = pd.DataFrame(index=range(5))\n",
    "\n",
    "hypothetical_data['sex'] = ['M', 'M', 'F', 'M', 'F']\n",
    "hypothetical_data['age'] = [35, 45, 75, 67, 91]\n",
    "\n",
    "hypothetical_data['injury'] = ['rti', 'fall', '', '', '']\n",
    "hypothetical_data['heart_disease'] = ['N', 'N', 'Y', 'Y', 'Y']\n",
    "hypothetical_data['chest_pain'] = ['N', 'N', 'Y', 'N', '']\n",
    "\n",
    "hypothetical_data"
   ]
  },
  {
   "cell_type": "code",
   "execution_count": 9,
   "metadata": {
    "collapsed": true
   },
   "outputs": [],
   "source": [
    "# SmartVA-Analyze 1.1 accepts a csv file as input\n",
    "# and expects a column for every field name in the \"Guide for data entry.xlsx\" spreadsheet\n",
    "\n",
    "df = pd.DataFrame(index=hypothetical_data.index, columns=cb.index.unique())\n",
    "\n",
    "# SmartVA-Analyze 1.1 also requires a handful of columns that are not in the Guide\n",
    "df['child_3_10'] = np.nan\n",
    "df['agedays']    = np.nan\n",
    "df['child_5_7e'] = np.nan\n",
    "df['child_5_6e'] = np.nan\n",
    "df['adult_2_9a'] = np.nan"
   ]
  },
  {
   "cell_type": "code",
   "execution_count": 10,
   "metadata": {
    "collapsed": true
   },
   "outputs": [],
   "source": [
    "# to find the coding of specific variables, look in the Guide, and \n",
    "# as necessary refer to the numbers in paper form for the PHMRC Shortened Questionnaire\n",
    "# http://www.healthdata.org/sites/default/files/files/Tools/SmartVA/2015/PHMRC%20Shortened%20VAI_all-modules_2015.zip\n",
    "\n",
    "# set id\n",
    "df['sid'] = hypothetical_data.index\n",
    "\n",
    "# set sex\n",
    "df['gen_5_2'] = hypothetical_data['sex'].map({'M': '1', 'F': '2'})\n",
    "\n",
    "# set age\n",
    "df['gen_5_4'] = 1  # units are years\n",
    "df['gen_5_4a'] = hypothetical_data['age'].astype(int)\n"
   ]
  },
  {
   "cell_type": "code",
   "execution_count": 11,
   "metadata": {
    "collapsed": true
   },
   "outputs": [],
   "source": [
    "# good place to save work and confirm that it runs through SmartVA\n",
    "fname = 'example_2.csv'\n",
    "df.to_csv(fname, index=False)"
   ]
  },
  {
   "cell_type": "code",
   "execution_count": 12,
   "metadata": {
    "collapsed": false
   },
   "outputs": [
    {
     "data": {
      "text/html": [
       "<div>\n",
       "<table border=\"1\" class=\"dataframe\">\n",
       "  <thead>\n",
       "    <tr style=\"text-align: right;\">\n",
       "      <th></th>\n",
       "      <th>sid</th>\n",
       "      <th>cause</th>\n",
       "      <th>cause34</th>\n",
       "      <th>age</th>\n",
       "      <th>sex</th>\n",
       "    </tr>\n",
       "  </thead>\n",
       "  <tbody>\n",
       "    <tr>\n",
       "      <th>0</th>\n",
       "      <td>0</td>\n",
       "      <td>NaN</td>\n",
       "      <td>Undetermined</td>\n",
       "      <td>35</td>\n",
       "      <td>0</td>\n",
       "    </tr>\n",
       "    <tr>\n",
       "      <th>1</th>\n",
       "      <td>1</td>\n",
       "      <td>NaN</td>\n",
       "      <td>Undetermined</td>\n",
       "      <td>45</td>\n",
       "      <td>0</td>\n",
       "    </tr>\n",
       "    <tr>\n",
       "      <th>2</th>\n",
       "      <td>2</td>\n",
       "      <td>NaN</td>\n",
       "      <td>Undetermined</td>\n",
       "      <td>75</td>\n",
       "      <td>1</td>\n",
       "    </tr>\n",
       "    <tr>\n",
       "      <th>3</th>\n",
       "      <td>3</td>\n",
       "      <td>NaN</td>\n",
       "      <td>Undetermined</td>\n",
       "      <td>67</td>\n",
       "      <td>0</td>\n",
       "    </tr>\n",
       "    <tr>\n",
       "      <th>4</th>\n",
       "      <td>4</td>\n",
       "      <td>NaN</td>\n",
       "      <td>Undetermined</td>\n",
       "      <td>91</td>\n",
       "      <td>1</td>\n",
       "    </tr>\n",
       "  </tbody>\n",
       "</table>\n",
       "</div>"
      ],
      "text/plain": [
       "   sid  cause       cause34  age  sex\n",
       "0    0    NaN  Undetermined   35    0\n",
       "1    1    NaN  Undetermined   45    0\n",
       "2    2    NaN  Undetermined   75    1\n",
       "3    3    NaN  Undetermined   67    0\n",
       "4    4    NaN  Undetermined   91    1"
      ]
     },
     "execution_count": 12,
     "metadata": {},
     "output_type": "execute_result"
    }
   ],
   "source": [
    "# here are the results of running this example\n",
    "pd.read_csv('adult-predictions.csv')"
   ]
  },
  {
   "cell_type": "code",
   "execution_count": 13,
   "metadata": {
    "collapsed": false
   },
   "outputs": [],
   "source": [
    "# map injuries to appropriate codes\n",
    "# suffered injury?\n",
    "df['adult_5_1'] = hypothetical_data['injury'].map({'rti':'1', 'fall':'1', '':'0'})\n",
    "# injury type\n",
    "df['adult_5_2'] = hypothetical_data['injury'].map({'rti':'1', 'fall':'2'})"
   ]
  },
  {
   "cell_type": "code",
   "execution_count": 14,
   "metadata": {
    "collapsed": true
   },
   "outputs": [],
   "source": [
    "# _another_ good place to save work and confirm that it runs through SmartVA\n",
    "fname = 'example_3.csv'\n",
    "df.to_csv(fname, index=False)"
   ]
  },
  {
   "cell_type": "code",
   "execution_count": 15,
   "metadata": {
    "collapsed": false
   },
   "outputs": [
    {
     "data": {
      "text/html": [
       "<div>\n",
       "<table border=\"1\" class=\"dataframe\">\n",
       "  <thead>\n",
       "    <tr style=\"text-align: right;\">\n",
       "      <th></th>\n",
       "      <th>sid</th>\n",
       "      <th>cause</th>\n",
       "      <th>cause34</th>\n",
       "      <th>age</th>\n",
       "      <th>sex</th>\n",
       "    </tr>\n",
       "  </thead>\n",
       "  <tbody>\n",
       "    <tr>\n",
       "      <th>0</th>\n",
       "      <td>0</td>\n",
       "      <td>30</td>\n",
       "      <td>Road Traffic</td>\n",
       "      <td>35</td>\n",
       "      <td>0</td>\n",
       "    </tr>\n",
       "    <tr>\n",
       "      <th>1</th>\n",
       "      <td>1</td>\n",
       "      <td>14</td>\n",
       "      <td>Falls</td>\n",
       "      <td>45</td>\n",
       "      <td>0</td>\n",
       "    </tr>\n",
       "    <tr>\n",
       "      <th>2</th>\n",
       "      <td>2</td>\n",
       "      <td>NaN</td>\n",
       "      <td>Undetermined</td>\n",
       "      <td>75</td>\n",
       "      <td>1</td>\n",
       "    </tr>\n",
       "    <tr>\n",
       "      <th>3</th>\n",
       "      <td>3</td>\n",
       "      <td>NaN</td>\n",
       "      <td>Undetermined</td>\n",
       "      <td>67</td>\n",
       "      <td>0</td>\n",
       "    </tr>\n",
       "    <tr>\n",
       "      <th>4</th>\n",
       "      <td>4</td>\n",
       "      <td>NaN</td>\n",
       "      <td>Undetermined</td>\n",
       "      <td>91</td>\n",
       "      <td>1</td>\n",
       "    </tr>\n",
       "  </tbody>\n",
       "</table>\n",
       "</div>"
      ],
      "text/plain": [
       "   sid  cause       cause34  age  sex\n",
       "0    0     30  Road Traffic   35    0\n",
       "1    1     14         Falls   45    0\n",
       "2    2    NaN  Undetermined   75    1\n",
       "3    3    NaN  Undetermined   67    0\n",
       "4    4    NaN  Undetermined   91    1"
      ]
     },
     "execution_count": 15,
     "metadata": {},
     "output_type": "execute_result"
    }
   ],
   "source": [
    "# here are the results of running this example\n",
    "pd.read_csv('adult-predictions.csv')"
   ]
  },
  {
   "cell_type": "code",
   "execution_count": 16,
   "metadata": {
    "collapsed": false
   },
   "outputs": [],
   "source": [
    "# map heart disease (to column adult_1_1i, see Guide)\n",
    "df['adult_1_1i'] = hypothetical_data['heart_disease'].map({'Y':'1', 'N':'0'})\n",
    "\n",
    "# map chest pain (to column adult_2_43, see Guide)\n",
    "df['adult_2_43'] = hypothetical_data['chest_pain'].map({'Y':'1', 'N':'0', '':'9'})"
   ]
  },
  {
   "cell_type": "code",
   "execution_count": 18,
   "metadata": {
    "collapsed": false
   },
   "outputs": [],
   "source": [
    "# and that completes the work for a simple, hypothetical mapping\n",
    "fname = 'example_4.csv'\n",
    "df.to_csv(fname, index=False)"
   ]
  },
  {
   "cell_type": "code",
   "execution_count": 19,
   "metadata": {
    "collapsed": false
   },
   "outputs": [
    {
     "data": {
      "text/html": [
       "<div>\n",
       "<table border=\"1\" class=\"dataframe\">\n",
       "  <thead>\n",
       "    <tr style=\"text-align: right;\">\n",
       "      <th></th>\n",
       "      <th>0</th>\n",
       "      <th>1</th>\n",
       "      <th>2</th>\n",
       "      <th>3</th>\n",
       "      <th>4</th>\n",
       "    </tr>\n",
       "  </thead>\n",
       "  <tbody>\n",
       "    <tr>\n",
       "      <th>sid</th>\n",
       "      <td>0</td>\n",
       "      <td>1</td>\n",
       "      <td>2</td>\n",
       "      <td>3</td>\n",
       "      <td>4</td>\n",
       "    </tr>\n",
       "    <tr>\n",
       "      <th>gen_5_2</th>\n",
       "      <td>1</td>\n",
       "      <td>1</td>\n",
       "      <td>2</td>\n",
       "      <td>1</td>\n",
       "      <td>2</td>\n",
       "    </tr>\n",
       "    <tr>\n",
       "      <th>gen_5_4</th>\n",
       "      <td>1</td>\n",
       "      <td>1</td>\n",
       "      <td>1</td>\n",
       "      <td>1</td>\n",
       "      <td>1</td>\n",
       "    </tr>\n",
       "    <tr>\n",
       "      <th>gen_5_4a</th>\n",
       "      <td>35</td>\n",
       "      <td>45</td>\n",
       "      <td>75</td>\n",
       "      <td>67</td>\n",
       "      <td>91</td>\n",
       "    </tr>\n",
       "    <tr>\n",
       "      <th>adult_5_1</th>\n",
       "      <td>1</td>\n",
       "      <td>1</td>\n",
       "      <td>0</td>\n",
       "      <td>0</td>\n",
       "      <td>0</td>\n",
       "    </tr>\n",
       "    <tr>\n",
       "      <th>adult_1_1i</th>\n",
       "      <td>0</td>\n",
       "      <td>0</td>\n",
       "      <td>1</td>\n",
       "      <td>1</td>\n",
       "      <td>1</td>\n",
       "    </tr>\n",
       "    <tr>\n",
       "      <th>adult_2_43</th>\n",
       "      <td>0</td>\n",
       "      <td>0</td>\n",
       "      <td>1</td>\n",
       "      <td>0</td>\n",
       "      <td>9</td>\n",
       "    </tr>\n",
       "  </tbody>\n",
       "</table>\n",
       "</div>"
      ],
      "text/plain": [
       "             0   1   2   3   4\n",
       "sid          0   1   2   3   4\n",
       "gen_5_2      1   1   2   1   2\n",
       "gen_5_4      1   1   1   1   1\n",
       "gen_5_4a    35  45  75  67  91\n",
       "adult_5_1    1   1   0   0   0\n",
       "adult_1_1i   0   0   1   1   1\n",
       "adult_2_43   0   0   1   0   9"
      ]
     },
     "execution_count": 19,
     "metadata": {},
     "output_type": "execute_result"
    }
   ],
   "source": [
    "# have a look at the non-empty entries in the mapped database:\n",
    "df.T.dropna()"
   ]
  },
  {
   "cell_type": "code",
   "execution_count": 20,
   "metadata": {
    "collapsed": false
   },
   "outputs": [
    {
     "data": {
      "text/html": [
       "<div>\n",
       "<table border=\"1\" class=\"dataframe\">\n",
       "  <thead>\n",
       "    <tr style=\"text-align: right;\">\n",
       "      <th></th>\n",
       "      <th>sid</th>\n",
       "      <th>cause</th>\n",
       "      <th>cause34</th>\n",
       "      <th>age</th>\n",
       "      <th>sex</th>\n",
       "    </tr>\n",
       "  </thead>\n",
       "  <tbody>\n",
       "    <tr>\n",
       "      <th>0</th>\n",
       "      <td>0</td>\n",
       "      <td>30</td>\n",
       "      <td>Road Traffic</td>\n",
       "      <td>35</td>\n",
       "      <td>0</td>\n",
       "    </tr>\n",
       "    <tr>\n",
       "      <th>1</th>\n",
       "      <td>1</td>\n",
       "      <td>14</td>\n",
       "      <td>Falls</td>\n",
       "      <td>45</td>\n",
       "      <td>0</td>\n",
       "    </tr>\n",
       "    <tr>\n",
       "      <th>2</th>\n",
       "      <td>2</td>\n",
       "      <td>17</td>\n",
       "      <td>IHD - Acute Myocardial Infarction</td>\n",
       "      <td>75</td>\n",
       "      <td>1</td>\n",
       "    </tr>\n",
       "    <tr>\n",
       "      <th>3</th>\n",
       "      <td>3</td>\n",
       "      <td>17</td>\n",
       "      <td>IHD - Acute Myocardial Infarction</td>\n",
       "      <td>67</td>\n",
       "      <td>0</td>\n",
       "    </tr>\n",
       "    <tr>\n",
       "      <th>4</th>\n",
       "      <td>4</td>\n",
       "      <td>17</td>\n",
       "      <td>IHD - Acute Myocardial Infarction</td>\n",
       "      <td>91</td>\n",
       "      <td>1</td>\n",
       "    </tr>\n",
       "  </tbody>\n",
       "</table>\n",
       "</div>"
      ],
      "text/plain": [
       "   sid  cause                            cause34  age  sex\n",
       "0    0     30                       Road Traffic   35    0\n",
       "1    1     14                              Falls   45    0\n",
       "2    2     17  IHD - Acute Myocardial Infarction   75    1\n",
       "3    3     17  IHD - Acute Myocardial Infarction   67    0\n",
       "4    4     17  IHD - Acute Myocardial Infarction   91    1"
      ]
     },
     "execution_count": 20,
     "metadata": {},
     "output_type": "execute_result"
    }
   ],
   "source": [
    "# here are the results of running this example\n",
    "pd.read_csv('adult-predictions.csv')"
   ]
  }
 ],
 "metadata": {
  "kernelspec": {
   "display_name": "Python 2",
   "language": "python",
   "name": "python2"
  },
  "language_info": {
   "codemirror_mode": {
    "name": "ipython",
    "version": 2
   },
   "file_extension": ".py",
   "mimetype": "text/x-python",
   "name": "python",
   "nbconvert_exporter": "python",
   "pygments_lexer": "ipython2",
   "version": "2.7.11"
  }
 },
 "nbformat": 4,
 "nbformat_minor": 0
}
